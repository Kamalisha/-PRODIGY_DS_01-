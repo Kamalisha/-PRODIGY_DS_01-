{
  "nbformat": 4,
  "nbformat_minor": 0,
  "metadata": {
    "colab": {
      "private_outputs": true,
      "provenance": [],
      "authorship_tag": "ABX9TyPQ/KRxLeXIK0ePgIcRCEfM",
      "include_colab_link": true
    },
    "kernelspec": {
      "name": "python3",
      "display_name": "Python 3"
    },
    "language_info": {
      "name": "python"
    }
  },
  "cells": [
    {
      "cell_type": "markdown",
      "metadata": {
        "id": "view-in-github",
        "colab_type": "text"
      },
      "source": [
        "<a href=\"https://colab.research.google.com/github/Kamalisha/-PRODIGY_DS_01-/blob/main/%22PRODIGY_DS_04%22.ipynb\" target=\"_parent\"><img src=\"https://colab.research.google.com/assets/colab-badge.svg\" alt=\"Open In Colab\"/></a>"
      ]
    },
    {
      "cell_type": "code",
      "execution_count": null,
      "metadata": {
        "id": "zy7fZi3VHxfL"
      },
      "outputs": [],
      "source": [
        "import warnings\n",
        "warnings.filterwarnings(\"ignore\")\n",
        "import numpy as np\n",
        "import pandas as pd\n",
        "import re\n",
        "import nltk\n",
        "from nltk.corpus import stopwords\n",
        "from nltk.stem import WordNetLemmatizer\n",
        "import matplotlib.pyplot as plt\n",
        "import seaborn as sns"
      ]
    },
    {
      "cell_type": "code",
      "source": [
        "col_names = ['ID', 'Entity', 'Sentiment', 'Content']\n",
        "df1 = pd.read_csv('twitter_training.csv', names=col_names)\n",
        "df2 = pd.read_csv('twitter_validation.csv', names=col_names)\n",
        "df1\n",
        "df2"
      ],
      "metadata": {
        "id": "azEAyU3SKFAr"
      },
      "execution_count": null,
      "outputs": []
    },
    {
      "cell_type": "code",
      "source": [
        "from plotly.subplots import make_subplots\n",
        "import plotly.express as px\n",
        "import plotly.graph_objects as go\n",
        "import plotly.figure_factory as ff\n",
        "from sklearn.pipeline import Pipeline\n",
        "from sklearn.feature_extraction.text import TfidfVectorizer\n",
        "from sklearn.linear_model import LogisticRegression\n",
        "from sklearn.metrics import accuracy_score\n",
        "from sklearn.model_selection import GridSearchCV"
      ],
      "metadata": {
        "id": "NTSwsk9lLsqk"
      },
      "execution_count": null,
      "outputs": []
    },
    {
      "cell_type": "code",
      "source": [
        "df1.isnull().sum()"
      ],
      "metadata": {
        "id": "Xd6XkuobKMt6"
      },
      "execution_count": null,
      "outputs": []
    },
    {
      "cell_type": "code",
      "source": [
        "df1.dropna(subset=['Content'], inplace=True)"
      ],
      "metadata": {
        "id": "yqbJ6KNSKU9n"
      },
      "execution_count": null,
      "outputs": []
    },
    {
      "cell_type": "code",
      "source": [
        "df1['Sentiment'] = df1['Sentiment'].replace('Irrelevant', 'Neutral')\n",
        "df1['Sentiment'] = df1['Sentiment'].replace('Irrelevant', 'Neutral')"
      ],
      "metadata": {
        "id": "iKfdt7yLKa9T"
      },
      "execution_count": null,
      "outputs": []
    },
    {
      "cell_type": "code",
      "source": [
        "sentiment_counts = df1['Sentiment'].value_counts().sort_index()\n",
        "\n",
        "sentiment_labels = ['Negative', 'Neutral', 'Positive']\n",
        "sentiment_colors = ['purple', 'pink', 'green']\n",
        "\n",
        "fig = go.Figure(data=[go.Pie(labels=sentiment_counts.index,\n",
        "                             values=sentiment_counts.values,\n",
        "                             textinfo='percent+value+label',\n",
        "                             marker_colors=sentiment_colors,\n",
        "                             textposition='auto',\n",
        "                             hole=.3)])\n",
        "\n",
        "fig.update_layout(\n",
        "    title_text='Sentiment Distribution',\n",
        "    template='plotly_white',\n",
        "    xaxis=dict(\n",
        "        title='Sources',\n",
        "    ),\n",
        "    yaxis=dict(\n",
        "        title='Number of Posts in Twitter',\n",
        "    )\n",
        ")\n",
        "\n",
        "fig.update_traces(marker_line_color='black',\n",
        "                  marker_line_width=1.5,\n",
        "                  opacity=0.8)\n",
        "\n",
        "fig.show()\n"
      ],
      "metadata": {
        "id": "ewmzxXSjKfV1"
      },
      "execution_count": null,
      "outputs": []
    },
    {
      "cell_type": "code",
      "source": [
        "sns.countplot(x='Sentiment', data=df1)\n",
        "plt.title('Sentiment Distribution')\n",
        "plt.show()"
      ],
      "metadata": {
        "id": "fd6emrYDKoua"
      },
      "execution_count": null,
      "outputs": []
    },
    {
      "cell_type": "code",
      "source": [
        "entity_sentiment_counts = df1.groupby(['Entity', 'Sentiment']).size().unstack()\n",
        "entity_sentiment_counts.plot(kind='bar', stacked=True)\n",
        "plt.title('Entity-Sentiment Relationship')\n",
        "plt.show()"
      ],
      "metadata": {
        "id": "m58kPXs1KyDT"
      },
      "execution_count": null,
      "outputs": []
    },
    {
      "cell_type": "code",
      "source": [
        "sns.histplot(df1[\"Content\"].str.len(), binwidth=50)\n",
        "plt.show()"
      ],
      "metadata": {
        "id": "BvQjmeKQK4lF"
      },
      "execution_count": null,
      "outputs": []
    },
    {
      "cell_type": "code",
      "source": [
        "top10_entity_counts = df1['Entity'].value_counts().sort_values(ascending=False)[:10]\n",
        "\n",
        "fig = px.bar(x=top10_entity_counts.index,\n",
        "             y=top10_entity_counts.values,\n",
        "             color=top10_entity_counts.values,\n",
        "             text=top10_entity_counts.values,\n",
        "             color_continuous_scale='Greens')\n",
        "fig.update_layout(\n",
        "    title_text='Top 10 Twitter Entity Distribution',\n",
        "    template='plotly_white',\n",
        "    xaxis=dict(\n",
        "        title='Entity',\n",
        "    ),\n",
        "    yaxis=dict(\n",
        "        title='Number of Posts in Twitter',\n",
        "    )\n",
        ")\n",
        "\n",
        "fig.update_traces(marker_line_color='black',\n",
        "                  marker_line_width=1.5,\n",
        "                  opacity=0.8)\n",
        "\n",
        "fig.show()\n"
      ],
      "metadata": {
        "id": "E_saz4R0LBZP"
      },
      "execution_count": null,
      "outputs": []
    },
    {
      "cell_type": "code",
      "source": [
        "top3_entity_df = df1['Entity'].value_counts().sort_values(ascending=False)[:3]\n",
        "top3_entity = top3_entity_df.index.tolist()\n",
        "sentiment_by_entity = df1.loc[df1['Entity'].isin(top3_entity)].groupby('Entity')['Sentiment'].value_counts().sort_index()\n",
        "\n",
        "sentiment_labels = ['Negative', 'Neutral', 'Positive']\n",
        "sentiment_colors = ['purple', 'grey', 'blue']\n",
        "\n",
        "row_n = 1\n",
        "col_n = 3\n",
        "\n",
        "fig = make_subplots(rows=row_n, cols=col_n,\n",
        "                    specs=[[{'type':'domain'}, {'type':'domain'}, {'type':'domain'}]],\n",
        "                    subplot_titles=top3_entity)\n",
        "\n",
        "for i, col in enumerate(top3_entity):\n",
        "    fig.add_trace(\n",
        "        go.Pie(labels=sentiment_labels,\n",
        "                values=sentiment_by_entity[col].values,\n",
        "                textinfo='percent+value+label',\n",
        "                marker_colors=sentiment_colors,\n",
        "                textposition='auto',\n",
        "                name=col),\n",
        "            row=int(i/col_n)+1, col=int(i%col_n)+1)\n",
        "\n",
        "fig.update_traces(marker_line_color='black',\n",
        "                  marker_line_width=1.5,\n",
        "                  opacity=0.8)\n",
        "\n",
        "fig.show()"
      ],
      "metadata": {
        "id": "RjPErtmBLKLQ"
      },
      "execution_count": null,
      "outputs": []
    },
    {
      "cell_type": "code",
      "source": [
        "plot1=df1.groupby(by=[\"Entity\",\"Sentiment\"]).count().reset_index()\n",
        "plot1.head()"
      ],
      "metadata": {
        "id": "rIQdyxvcLXjT"
      },
      "execution_count": null,
      "outputs": []
    },
    {
      "cell_type": "code",
      "source": [
        "plt.figure(figsize=(20,6))\n",
        "sns.barplot(data=plot1,x=\"Entity\",y=\"ID\",hue=\"Sentiment\")\n",
        "plt.xticks(rotation=90)\n",
        "plt.xlabel(\"Brand\")\n",
        "plt.ylabel(\"Number of tweets\")\n",
        "plt.grid()\n",
        "plt.title(\"Distribution of tweets per Branch and sentiment\");"
      ],
      "metadata": {
        "id": "dVkH-RtdLewL"
      },
      "execution_count": null,
      "outputs": []
    }
  ]
}