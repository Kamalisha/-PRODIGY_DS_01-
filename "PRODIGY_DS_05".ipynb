{
  "nbformat": 4,
  "nbformat_minor": 0,
  "metadata": {
    "colab": {
      "private_outputs": true,
      "provenance": [],
      "authorship_tag": "ABX9TyM6bpfavTwt/5APPHaizAiG",
      "include_colab_link": true
    },
    "kernelspec": {
      "name": "python3",
      "display_name": "Python 3"
    },
    "language_info": {
      "name": "python"
    }
  },
  "cells": [
    {
      "cell_type": "markdown",
      "metadata": {
        "id": "view-in-github",
        "colab_type": "text"
      },
      "source": [
        "<a href=\"https://colab.research.google.com/github/Kamalisha/-PRODIGY_DS_1_to_5/blob/main/%22PRODIGY_DS_05%22.ipynb\" target=\"_parent\"><img src=\"https://colab.research.google.com/assets/colab-badge.svg\" alt=\"Open In Colab\"/></a>"
      ]
    },
    {
      "cell_type": "code",
      "execution_count": null,
      "metadata": {
        "id": "vCWoBzoeQL50"
      },
      "outputs": [],
      "source": [
        "import pandas as pd\n",
        "import matplotlib.pyplot as plt\n",
        "import seaborn as sns\n",
        "import random\n",
        "import plotly.express as px\n"
      ]
    },
    {
      "cell_type": "code",
      "source": [
        "Accidents = pd.read_csv(\"RTA Dataset.csv\")"
      ],
      "metadata": {
        "id": "_NIho61ISPyh"
      },
      "execution_count": null,
      "outputs": []
    },
    {
      "cell_type": "code",
      "source": [
        "def preprocess_data(df):\n",
        "    # Fill missing values\n",
        "    df.fillna({'Accident_severity': 'Unknown', 'Age_band_of_driver': 'Unknown'}, inplace=True)\n",
        "    # Encode categorical variables\n",
        "    categorical_cols = ['Road_surface_conditions', 'Weather_conditions', 'Accident_severity', 'Age_band_of_driver',\n",
        "                        'Day_of_week', 'Educational_level', 'Types_of_Junction', 'Number_of_vehicles_involved']\n",
        "    for col in categorical_cols:\n",
        "        df[col] = df[col].astype('category').cat.codes\n",
        "    return df\n"
      ],
      "metadata": {
        "id": "2Drs6LSBSUbK"
      },
      "execution_count": null,
      "outputs": []
    },
    {
      "cell_type": "code",
      "source": [
        "Accidents = preprocess_data(Accidents)"
      ],
      "metadata": {
        "id": "ixjRQc2vSaCp"
      },
      "execution_count": null,
      "outputs": []
    },
    {
      "cell_type": "code",
      "source": [
        "Accidents['Time'] = pd.to_datetime(Accidents['Time'])\n",
        "Accidents['Hour'] = Accidents['Time'].dt.hour\n",
        "time_of_day_counts = Accidents['Hour'].value_counts().sort_index()\n",
        "plt.figure(figsize=(12, 6))\n",
        "plt.bar(time_of_day_counts.index, time_of_day_counts.values, color='skyblue')\n",
        "plt.xlabel('Hour of the Day')\n",
        "plt.ylabel('Accident Count')\n",
        "plt.title('Accidents by Time of Day')\n",
        "plt.show()\n"
      ],
      "metadata": {
        "id": "1CB_lYAXSfea"
      },
      "execution_count": null,
      "outputs": []
    },
    {
      "cell_type": "code",
      "source": [
        "plt.figure(figsize=(10, 6))\n",
        "sns.countplot(x='Road_surface_conditions', data=Accidents,palette='Reds')\n",
        "plt.xticks(rotation=45)\n",
        "plt.xlabel('Road Conditions')\n",
        "plt.ylabel('Accident Count')\n",
        "plt.title('Accidents by Road Conditions')\n",
        "plt.show()"
      ],
      "metadata": {
        "id": "S2oW31OGSm7q"
      },
      "execution_count": null,
      "outputs": []
    },
    {
      "cell_type": "code",
      "source": [
        "# Weather Analysis\n",
        "plt.figure(figsize=(10, 6))\n",
        "sns.countplot(x='Weather_conditions', data=Accidents)\n",
        "plt.xticks(rotation=45)\n",
        "plt.xlabel('Weather Conditions')\n",
        "plt.ylabel('Accident Count')\n",
        "plt.title('Accidents by Weather Conditions')\n",
        "plt.show()"
      ],
      "metadata": {
        "id": "hkzra4RmSw_d"
      },
      "execution_count": null,
      "outputs": []
    },
    {
      "cell_type": "code",
      "source": [
        "def interactive_subplots(df, category_cols, ncols=3):\n",
        "    nrows = (len(category_cols) + ncols - 1) // ncols\n",
        "    fig, axes = plt.subplots(nrows=nrows, ncols=ncols, figsize=(18, 6 * nrows))\n",
        "    for i, col in enumerate(category_cols):\n",
        "        sns.countplot(data=df, x=col, ax=axes[i // ncols, i % ncols])\n",
        "        axes[i // ncols, i % ncols].set_title(f'Accidents by {col}')\n",
        "        axes[i // ncols, i % ncols].set_xlabel(col)\n",
        "        axes[i // ncols, i % ncols].set_ylabel('Accident Count')\n",
        "        axes[i // ncols, i % ncols].tick_params(axis='x', rotation=45)\n",
        "    plt.tight_layout()\n",
        "    plt.show()"
      ],
      "metadata": {
        "id": "Jk7D_5dFS5SH"
      },
      "execution_count": null,
      "outputs": []
    },
    {
      "cell_type": "code",
      "source": [
        "category_cols = ['Accident_severity', 'Age_band_of_driver', 'Day_of_week', 'Educational_level', 'Types_of_Junction', 'Number_of_vehicles_involved']\n",
        "interactive_subplots(Accidents, category_cols)"
      ],
      "metadata": {
        "id": "QtfmW13fTAc_"
      },
      "execution_count": null,
      "outputs": []
    },
    {
      "cell_type": "code",
      "source": [
        "contributing_factors_counts = Accidents['Cause_of_accident'].value_counts()\n",
        "fig = px.bar(x=contributing_factors_counts.index, y=contributing_factors_counts.values, labels={'x': 'Contributing Factors', 'y': 'Accident Count'},\n",
        "             title='Contributing Factors to Accidents')\n",
        "fig.update_layout(xaxis_tickangle=-45, plot_bgcolor='rgba(0, 0, 0, 0)')\n",
        "fig.show()"
      ],
      "metadata": {
        "id": "BQS0Wc4QTLq7"
      },
      "execution_count": null,
      "outputs": []
    },
    {
      "cell_type": "code",
      "source": [
        "defect_count = Accidents['Defect_of_vehicle'].value_counts()\n",
        "fig = px.bar(x=defect_count.index, y=defect_count.values, labels={'x': 'Defect', 'y': 'Accident Count'},\n",
        "             title='Defect in Vehicles')\n",
        "fig.update_layout(xaxis_tickangle=-45, plot_bgcolor='rgba(0, 0, 0, 0)')\n",
        "fig.show()"
      ],
      "metadata": {
        "id": "oNbqZ5cPTUHq"
      },
      "execution_count": null,
      "outputs": []
    },
    {
      "cell_type": "code",
      "source": [
        "light_count = Accidents['Light_conditions'].value_counts()\n",
        "fig = px.bar(x=light_count.index, y=light_count.values, labels={'x': 'Light Conditions', 'y': 'Accident Count'},\n",
        "             title='Light Conditions')\n",
        "fig.update_layout(xaxis_tickangle=-45, plot_bgcolor='rgba(0, 0, 0, 0)')\n",
        "fig.show()"
      ],
      "metadata": {
        "id": "6L3TrpyVTcu7"
      },
      "execution_count": null,
      "outputs": []
    },
    {
      "cell_type": "code",
      "source": [
        "plt.figure(figsize=(10, 6))\n",
        "sns.countplot(x='Driving_experience', data=Accidents,palette='Reds')\n",
        "plt.xticks(rotation=45)\n",
        "plt.xlabel('Experience')\n",
        "plt.ylabel('Accident Count')\n",
        "plt.title('Accidents by Driving Experience')\n",
        "plt.show()"
      ],
      "metadata": {
        "id": "l9pQ7KyqThCV"
      },
      "execution_count": null,
      "outputs": []
    },
    {
      "cell_type": "code",
      "source": [
        "age_counts = Accidents['Age_band_of_casualty'].value_counts()\n",
        "fig = px.bar(x=age_counts.index, y=age_counts.values, labels={'x': 'Casualty Age', 'y': 'Accident Count'},\n",
        "             title='Casualty by Age Band')\n",
        "fig.update_layout(xaxis_tickangle=-45, plot_bgcolor='rgba(0, 0, 0, 0)')\n",
        "fig.show()"
      ],
      "metadata": {
        "id": "WUsX1maQTqbu"
      },
      "execution_count": null,
      "outputs": []
    }
  ]
}