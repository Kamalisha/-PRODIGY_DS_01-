{
  "nbformat": 4,
  "nbformat_minor": 0,
  "metadata": {
    "colab": {
      "private_outputs": true,
      "provenance": [],
      "authorship_tag": "ABX9TyODZLc+d8RywvCZFc1hdcm8",
      "include_colab_link": true
    },
    "kernelspec": {
      "name": "python3",
      "display_name": "Python 3"
    },
    "language_info": {
      "name": "python"
    }
  },
  "cells": [
    {
      "cell_type": "markdown",
      "metadata": {
        "id": "view-in-github",
        "colab_type": "text"
      },
      "source": [
        "<a href=\"https://colab.research.google.com/github/Kamalisha/-PRODIGY_DS_1_to_5/blob/main/%22PRODIGY_DS_03%22.ipynb\" target=\"_parent\"><img src=\"https://colab.research.google.com/assets/colab-badge.svg\" alt=\"Open In Colab\"/></a>"
      ]
    },
    {
      "cell_type": "code",
      "source": [
        "import pandas as pd\n",
        "from sklearn.tree import DecisionTreeClassifier\n",
        "from sklearn.model_selection import train_test_split\n",
        "from sklearn.metrics import accuracy_score"
      ],
      "metadata": {
        "id": "GtPFMBL2c-Mt"
      },
      "execution_count": null,
      "outputs": []
    },
    {
      "cell_type": "code",
      "source": [
        "data=pd.read_csv('/content/bank.csv')\n",
        "data.head()"
      ],
      "metadata": {
        "id": "QzbmJFa6c-aW"
      },
      "execution_count": null,
      "outputs": []
    },
    {
      "cell_type": "code",
      "source": [
        "data.isnull().sum()"
      ],
      "metadata": {
        "id": "7V9J8jFseBd2"
      },
      "execution_count": null,
      "outputs": []
    },
    {
      "cell_type": "code",
      "source": [
        "target_variable=\"deposit\"\n",
        "independent=data.drop(target_variable,axis=1).columns\n",
        "X_train,X_test,y_train,y_test=train_test_split(data[independent],data[target_variable],test_size=0.2,random_state=42)"
      ],
      "metadata": {
        "id": "DvBDJMvCeHT8"
      },
      "execution_count": null,
      "outputs": []
    },
    {
      "cell_type": "code",
      "source": [
        "string_columns=data.select_dtypes(include=['object'])\n",
        "print(list(string_columns))\n"
      ],
      "metadata": {
        "id": "8vkb5Le0fzqX"
      },
      "execution_count": null,
      "outputs": []
    },
    {
      "cell_type": "code",
      "source": [
        "data"
      ],
      "metadata": {
        "id": "9g9Z2nV-bqCr"
      },
      "execution_count": null,
      "outputs": []
    },
    {
      "cell_type": "code",
      "source": [
        "data.duplicated().sum()\n",
        "print(X_train.shape)\n",
        "print(y_train.shape)\n"
      ],
      "metadata": {
        "id": "38lR_2sSg1rk"
      },
      "execution_count": null,
      "outputs": []
    },
    {
      "cell_type": "code",
      "source": [
        "data.info()\n"
      ],
      "metadata": {
        "id": "fUjItkiUhMkb"
      },
      "execution_count": null,
      "outputs": []
    },
    {
      "cell_type": "code",
      "source": [
        "print(data.columns)"
      ],
      "metadata": {
        "id": "icWCS0EihSua"
      },
      "execution_count": null,
      "outputs": []
    },
    {
      "cell_type": "code",
      "source": [
        "data.dtypes"
      ],
      "metadata": {
        "id": "sNiCvLoQhfkV"
      },
      "execution_count": null,
      "outputs": []
    },
    {
      "cell_type": "code",
      "source": [
        "data.dtypes.value_counts()"
      ],
      "metadata": {
        "id": "CxAXoxeZi81h"
      },
      "execution_count": null,
      "outputs": []
    },
    {
      "cell_type": "code",
      "source": [
        "cat_cols = data.select_dtypes(include='object').columns\n",
        "print(cat_cols)\n",
        "\n",
        "num_cols = data.select_dtypes(exclude='object').columns\n",
        "print(num_cols)"
      ],
      "metadata": {
        "id": "Xf0ZeGshjICM"
      },
      "execution_count": null,
      "outputs": []
    },
    {
      "cell_type": "code",
      "source": [
        "from sklearn.tree import plot_tree\n",
        "import matplotlib.pyplot as plt"
      ],
      "metadata": {
        "id": "TIlfAvTwjRvX"
      },
      "execution_count": null,
      "outputs": []
    },
    {
      "cell_type": "code",
      "source": [
        "data.dropna(inplace=True)\n",
        "data=pd.get_dummies(data)\n",
        "data.info()"
      ],
      "metadata": {
        "id": "11sx2yYhjpXN"
      },
      "execution_count": null,
      "outputs": []
    },
    {
      "cell_type": "code",
      "source": [
        "X=data.drop(['deposit_no','deposit_yes'],axis=1)\n",
        "y=data['deposit_yes']"
      ],
      "metadata": {
        "id": "qOtesa5Klu_y"
      },
      "execution_count": null,
      "outputs": []
    },
    {
      "cell_type": "code",
      "source": [
        "X_train,X_test,y_train,y_test=train_test_split(X,y,test_size=0.2,random_state=42)"
      ],
      "metadata": {
        "id": "eB98bMEmcYyq"
      },
      "execution_count": null,
      "outputs": []
    },
    {
      "cell_type": "code",
      "source": [
        "clf=DecisionTreeClassifier()\n",
        "clf.fit(X_train,y_train)"
      ],
      "metadata": {
        "id": "10EbEYyAqHGb"
      },
      "execution_count": null,
      "outputs": []
    },
    {
      "cell_type": "code",
      "source": [
        "from sklearn.metrics import accuracy_score, confusion_matrix, classification_report\n",
        "y_pred= clf.predict(X_test)\n",
        "accuracy= accuracy_score(y_test,y_pred)\n",
        "print(\"Accuracy;\", accuracy)\n",
        "\n",
        "conf_matrix=confusion_matrix(y_test,y_pred)\n",
        "print(\"Confusion Matrix:\\n\",conf_matrix)\n",
        "\n",
        "class_report=classification_report(y_test,y_pred)\n",
        "print(\"Classification Reports:\\n\", class_report)"
      ],
      "metadata": {
        "id": "BXy3JZRFdvrg"
      },
      "execution_count": null,
      "outputs": []
    },
    {
      "cell_type": "code",
      "source": [
        "from sklearn.tree import plot_tree\n",
        "import matplotlib.pyplot as plt\n",
        "plt.figure(figsize=(20,10))\n",
        "plot_tree(clf,filled=True,feature_names=X.columns,class_names=['Not Purchased','Purchased'])\n",
        "plt.show()"
      ],
      "metadata": {
        "id": "sDR97KCUq47m"
      },
      "execution_count": null,
      "outputs": []
    }
  ]
}